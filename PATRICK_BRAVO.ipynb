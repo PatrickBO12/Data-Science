{
 "cells": [
  {
   "cell_type": "markdown",
   "metadata": {},
   "source": [
    "<center>\n",
    "    <img src=\"https://cf-courses-data.s3.us.cloud-object-storage.appdomain.cloud/IBMDeveloperSkillsNetwork-DS0105EN-SkillsNetwork/labs/Module2/images/SN_web_lightmode.png\" width=\"300\" alt=\"cognitiveclass.ai logo\">\n",
    "</center>\n"
   ]
  },
  {
   "cell_type": "markdown",
   "metadata": {
    "tags": []
   },
   "source": [
    "# Tools for Data Science"
   ]
  },
  {
   "cell_type": "markdown",
   "metadata": {},
   "source": [
    "## Introducción\n",
    "\n",
    "En este cuaderno, exploraremos diferentes conceptos de programación en Python. Aprenderemos sobre variables, estructuras de control, funciones y mucho más. ¡Comencemos!\n"
   ]
  },
  {
   "cell_type": "markdown",
   "metadata": {},
   "source": [
    "## Lenguajes de la Ciencia de Datos\n",
    "\n",
    "1. Python\n",
    "2. R\n",
    "3. SQL\n",
    "4. Java\n",
    "5. Scala"
   ]
  },
  {
   "cell_type": "markdown",
   "metadata": {},
   "source": [
    "## Bibliotecas de Ciencia de Datos\n",
    "\n",
    "- Pandas\n",
    "- NumPy\n",
    "- Matplotlib\n",
    "- Seaborn\n",
    "- Scikit-learn\n",
    "- TensorFlow\n",
    "- Keras\n"
   ]
  },
  {
   "cell_type": "markdown",
   "metadata": {},
   "source": [
    "## Herramientas de Ciencia de Datos\n",
    "\n",
    "| Herramienta      | Descripción                                |\n",
    "|------------------|--------------------------------------------|\n",
    "| Jupyter Notebook | Entorno interactivo para programación en Python y otros lenguajes. |\n",
    "| RStudio          | IDE para R con funcionalidades específicas para análisis de datos. |\n",
    "| Anaconda         | Distribución de Python que incluye muchas bibliotecas populares para ciencia de datos. |\n",
    "| Tableau          | Herramienta de visualización de datos con capacidades de análisis. |\n",
    "| SAS              | Software de análisis estadístico utilizado en empresas y academia. |\n"
   ]
  },
  {
   "cell_type": "markdown",
   "metadata": {},
   "source": [
    "## Ejemplos de Expresiones Aritméticas\n",
    "\n",
    "1. Suma: \\(2 + 3\\)\n",
    "2. Resta: \\(5 - 2\\)\n",
    "3. Multiplicación: \\(4 \\times 6\\)\n",
    "4. División: \\(10 \\div 2\\)\n",
    "5. Potencia: \\(2^3\\)"
   ]
  },
  {
   "cell_type": "code",
   "execution_count": 3,
   "metadata": {
    "tags": []
   },
   "outputs": [
    {
     "name": "stdout",
     "output_type": "stream",
     "text": [
      "Resultado de la multiplicación: 15\n",
      "Resultado de la suma: 8\n"
     ]
    }
   ],
   "source": [
    "# Multiplicación\n",
    "resultado_multiplicacion = 5 * 3\n",
    "print(\"Resultado de la multiplicación:\", resultado_multiplicacion)\n",
    "\n",
    "# Suma\n",
    "resultado_suma = 5 + 3\n",
    "print(\"Resultado de la suma:\", resultado_suma)"
   ]
  },
  {
   "cell_type": "code",
   "execution_count": 4,
   "metadata": {
    "tags": []
   },
   "outputs": [
    {
     "name": "stdout",
     "output_type": "stream",
     "text": [
      "135 minutos equivalen a 2.25 horas\n"
     ]
    }
   ],
   "source": [
    "# Definir la cantidad de minutos\n",
    "minutos = 135\n",
    "\n",
    "# Convertir minutos a horas\n",
    "horas = minutos / 60\n",
    "\n",
    "# Mostrar el resultado\n",
    "print(f\"{minutos} minutos equivalen a {horas} horas\")"
   ]
  },
  {
   "cell_type": "code",
   "execution_count": 5,
   "metadata": {
    "tags": []
   },
   "outputs": [
    {
     "name": "stdout",
     "output_type": "stream",
     "text": [
      "Aprender Python\n",
      "Dominar Pandas\n",
      "Crear visualizaciones impresionantes\n"
     ]
    }
   ],
   "source": [
    "# Lista de Objetivos\n",
    "objetivos = [\"Aprender Python\", \"Dominar Pandas\", \"Crear visualizaciones impresionantes\"]\n",
    "\n",
    "# Mostrar la lista de objetivos\n",
    "for objetivo in objetivos:\n",
    "    print(objetivo)"
   ]
  },
  {
   "cell_type": "markdown",
   "metadata": {},
   "source": [
    "## Autor\n",
    "- Nombre del autor: Patrick Bravo Ordoñez\n"
   ]
  }
 ],
 "metadata": {
  "kernelspec": {
   "display_name": "Python",
   "language": "python",
   "name": "conda-env-python-py"
  },
  "language_info": {
   "codemirror_mode": {
    "name": "ipython",
    "version": 3
   },
   "file_extension": ".py",
   "mimetype": "text/x-python",
   "name": "python",
   "nbconvert_exporter": "python",
   "pygments_lexer": "ipython3",
   "version": "3.7.12"
  }
 },
 "nbformat": 4,
 "nbformat_minor": 4
}
